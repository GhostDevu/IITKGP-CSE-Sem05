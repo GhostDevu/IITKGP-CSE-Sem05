{
 "cells": [
  {
   "cell_type": "markdown",
   "id": "96159d0d",
   "metadata": {},
   "source": [
    "### CS60050 MACHINE LEARNING <br> ASSIGNMENT 02 - K-MEANS CLUSTERING <br> 20 OCTOBER 2021\n",
    "***Amrta Chaurasia (19EE10004)***<br>***Nakul Aggarwal (19CS10044)***"
   ]
  },
  {
   "cell_type": "code",
   "execution_count": 1,
   "id": "a7a9d151",
   "metadata": {},
   "outputs": [],
   "source": [
    "import csv\n",
    "from math import log2\n",
    "from random import shuffle, randint\n",
    "import numpy as np\n",
    "import seaborn as sns\n",
    "import matplotlib.pyplot as plt\n",
    "import pandas as pd"
   ]
  },
  {
   "cell_type": "code",
   "execution_count": 2,
   "id": "bb7ff417",
   "metadata": {},
   "outputs": [],
   "source": [
    "# load dataset from the csv file whose location is provided as the arguement\n",
    "def Load_Dataset ( loc ) :\n",
    "    global data_samples\n",
    "    data_samples = [ ]\n",
    "    attributes = None\n",
    "    with open(loc) as csv_file :\n",
    "        csv_reader = csv.DictReader(csv_file)\n",
    "        for row in csv_reader :\n",
    "            attributes = list(row)[:-1]\n",
    "            sample = np.array([eval(t) for t in row.values()][:-1])\n",
    "            data_samples.append((sample, eval(row['Outcome'])))\n",
    "        \n",
    "        # Standardization of data (Feature Scaling) -- read the report for further information\n",
    "        means = np.mean(np.array([x for x, _ in data_samples]), axis = 0)\n",
    "        sds = np.std(np.array([x for x, _ in data_samples]), axis = 0)\n",
    "        for i, att in enumerate(attributes) :\n",
    "            print(' ATTRIBUTE :', att, '| MEAN :', round(means[i], 4), '| STD DEV :', round(sds[i], 4))\n",
    "        data_samples = [ ((x - means) / sds , y) for x, y in data_samples ]"
   ]
  },
  {
   "cell_type": "code",
   "execution_count": 3,
   "id": "cb23e314",
   "metadata": {},
   "outputs": [],
   "source": [
    "# This function returns the k centers selected from the train_data dataset using\n",
    "# k-means++ heuristic. If the seed given as arguement is None then it is randomly\n",
    "# selected from the dataset.\n",
    "def KMeans_Plus_Plus_Initial_Centers ( train_data , k , seed = None ) :\n",
    "    centers = []\n",
    "    \n",
    "    if seed is None :\n",
    "        first_center_id = randint(0, len(train_data)-1)\n",
    "        centers.append(train_data[first_center_id][0])\n",
    "    else : centers.append(seed)\n",
    "    \n",
    "    for i in range(1, k) :\n",
    "        prob_dist = []\n",
    "        for j in range(len(train_data)) :\n",
    "            least_dist_sq = float('inf')\n",
    "            for cent in centers :\n",
    "                d = np.linalg.norm(cent - train_data[j][0])\n",
    "                d = d * d\n",
    "                least_dist_sq = min(least_dist_sq, d)\n",
    "            prob_dist.append(least_dist_sq)\n",
    "        \n",
    "        f = sum(prob_dist)\n",
    "        prob_dist = np.array(prob_dist)\n",
    "        prob_dist = prob_dist / f\n",
    "        \n",
    "        center_id = np.random.choice(list(range(len(train_data))), p = prob_dist)\n",
    "        centers.append(train_data[center_id][0])\n",
    "    \n",
    "    return centers"
   ]
  },
  {
   "cell_type": "code",
   "execution_count": 4,
   "id": "1991df7a",
   "metadata": {},
   "outputs": [],
   "source": [
    "# J_clust is the objective function that the k-means clustering algorithm aims at \n",
    "# minimizing for a particular k. This function returns the value of the obj. function\n",
    "# that is the mean squared error (MSE) between the data samples and the centers of \n",
    "# the respective clusters they belong to.\n",
    "def J_clust ( clusters , centers ) :\n",
    "    k = len(centers)\n",
    "    j_clust = 0.0\n",
    "    N = 0\n",
    "    for i in range(k) :\n",
    "        N += len(clusters[i])\n",
    "        for x in clusters[i] :\n",
    "            d = np.linalg.norm(centers[i] - x[0])\n",
    "            d = d * d\n",
    "            j_clust += d\n",
    "    return round(j_clust/N, 6)"
   ]
  },
  {
   "cell_type": "code",
   "execution_count": 5,
   "id": "a13c3dc5",
   "metadata": {},
   "outputs": [],
   "source": [
    "# This function runs the k-means clustering algorithm on the train_data dataset.\n",
    "# +++ ARGUEMENTS +++\n",
    "#        -- train_data : a list of feature-class pairs that need to to be clustered.\n",
    "#        -- k : cluster size, i.e, the number of clusters into which the data samples are clustered.\n",
    "#        -- init : initialization setting for selecting the initial cluster centers.\n",
    "#                  * KMEANS++ (default) : centers initialized by the k-means++ heuristic \n",
    "#                                         seeded by the arguement 'seed' (if not None).\n",
    "#                  * RANDOM : k centers chosen randomly from the train_data.\n",
    "#                  * CUSTOM : k centers initialized by the arguement 'initial_centers' (if not None).\n",
    "#        -- initial_centers : Initial clsuter centers provided as an arguement that are \n",
    "#                             used only in the CUSTOM setting. \n",
    "#        -- seed : Seed for the k-means++ center-initialization heuristic that is used\n",
    "#                  only in the KMEANS++ setting.\n",
    "#        -- verbose : If true, the value of the objective function is printed at every iteration.\n",
    "def KMeans ( train_data , k , init = 'kmeans++' , initial_centers = None , seed = None , verbose = False ) :\n",
    "    centers = None\n",
    "    if init == 'custom' :\n",
    "        if initial_centers is None : return None\n",
    "        centers = initial_centers\n",
    "    elif init == 'kmeans++' :\n",
    "        centers = KMeans_Plus_Plus_Initial_Centers(train_data, k, seed)\n",
    "    elif init == 'random' :\n",
    "        shuffle(train_data)\n",
    "        centers = [ train_data[i][0] for i in range(k) ]\n",
    "    else : return None\n",
    "    \n",
    "    J_clusts = [ ]\n",
    "    prev_J_clust = float('inf')\n",
    "    clusters = None\n",
    "    it = 1\n",
    "    \n",
    "    while True :\n",
    "        clusters = [ [] for t in range(k) ]\n",
    "        \n",
    "        # STEP 1. -- CLSUTER ASSIGNMENT\n",
    "        for x in train_data :\n",
    "            least_dist = float('inf')\n",
    "            clust = -1\n",
    "            for c in range(k) :\n",
    "                d = np.linalg.norm(centers[c] - x[0])\n",
    "                if d < least_dist :\n",
    "                    least_dist = d\n",
    "                    clust = c\n",
    "            clusters[clust].append(x)\n",
    "        \n",
    "        # STEP 2. -- UPDATING CLUSTER CENTERS\n",
    "        for c in range(k) :\n",
    "            if len(clusters[c]) == 0 : continue\n",
    "            new_cent = sum([t[0] for t in clusters[c]])\n",
    "            new_cent = new_cent / len(clusters[c])\n",
    "            centers[c] = new_cent\n",
    "        \n",
    "        # STEP 3. -- RE-COMPUTE OBJECTIVE FUNCTION\n",
    "        j_clust = J_clust(clusters, centers)\n",
    "        J_clusts.append(j_clust)\n",
    "        \n",
    "        if ( verbose ) :\n",
    "            print(' ITERATION', it, ' | J_CLUST :', j_clust)\n",
    "        \n",
    "        if abs(j_clust - prev_J_clust) < 1e-6 : break\n",
    "        # terminate the algorithm if the change in the value of \n",
    "        # objective function is insignificant.\n",
    "        \n",
    "        prev_J_clust = j_clust\n",
    "        it += 1\n",
    "    \n",
    "    return centers, clusters, J_clusts"
   ]
  },
  {
   "cell_type": "code",
   "execution_count": 6,
   "id": "47889fef",
   "metadata": {},
   "outputs": [],
   "source": [
    "# This function returns the index/ID of the cluster to which the given\n",
    "# sample belong to. 'centers' is the centers of the clusters derived from\n",
    "# the kmeans clustering algorithm\n",
    "def Get_Center_ID ( sample , centers ) :\n",
    "    cent = -1\n",
    "    least_dist = float('inf')\n",
    "    for c in range(len(centers)) :\n",
    "        d = np.linalg.norm(centers[c] - sample[0])\n",
    "        if d < least_dist :\n",
    "            least_dist = d\n",
    "            cent = c\n",
    "    return cent"
   ]
  },
  {
   "cell_type": "code",
   "execution_count": 7,
   "id": "fdc858e5",
   "metadata": {},
   "outputs": [],
   "source": [
    "# This function returns the entropy of the values observed for a variable with\n",
    "# the given probability distribution of values -- 'dist'\n",
    "def Entropy ( dist ) :\n",
    "    ent = 0\n",
    "    for p in dist :\n",
    "        if p == 0 : continue\n",
    "        ent += -1 * p * log2(p)\n",
    "    return ent"
   ]
  },
  {
   "cell_type": "code",
   "execution_count": 8,
   "id": "bfc27d31",
   "metadata": {},
   "outputs": [],
   "source": [
    "# This function computes and returns the Rand Index (external index).\n",
    "# Read the report for more information.\n",
    "def RI ( data , centers ) :\n",
    "    l = len(data)\n",
    "    a, b, N = 0, 0, 0\n",
    "    center_ids = [ Get_Center_ID(data[i], centers) for i in range(len(data)) ]\n",
    "    for i in range(l) :\n",
    "        for j in range(i+1, l) :\n",
    "            N += 1\n",
    "            a += ((center_ids[i] == center_ids[j]) and (data[i][1] == data[j][1]))\n",
    "            b += ((center_ids[i] != center_ids[j]) and (data[i][1] != data[j][1]))\n",
    "    ri = (a + b) / N\n",
    "    return round(ri, 4)\n",
    "\n",
    "# This function computes and returns the Adjusted Rand Index (external index).\n",
    "# Read the report for more information.\n",
    "def ARI ( clusters ) :\n",
    "    k = len(clusters)\n",
    "    contingency_table = np.zeros((k, 2))\n",
    "    \n",
    "    for c in range(k) :\n",
    "        pos = len([t for t in clusters[c] if t[1] == 1])\n",
    "        neg = len(clusters[c]) - pos\n",
    "        contingency_table[c][0] = pos\n",
    "        contingency_table[c][1] = neg\n",
    "    \n",
    "    n = sum(sum(contingency_table))\n",
    "    numer = sum(sum(contingency_table * (contingency_table - 1) / 2))\n",
    "    \n",
    "    A = np.sum(contingency_table, axis=1)\n",
    "    B = np.sum(contingency_table, axis=0)\n",
    "    \n",
    "    t1 = sum(A * (A - 1) / 2)\n",
    "    t2 = sum(B * (B - 1) / 2)\n",
    "    n_C_2 = n * (n - 1) / 2\n",
    "    numer -= (t1 * t2) / n_C_2\n",
    "    \n",
    "    denom = (t1 + t2) / 2\n",
    "    denom -= (t1 * t2) / n_C_2\n",
    "    \n",
    "    ari = numer / denom\n",
    "    return round(ari, 4)"
   ]
  },
  {
   "cell_type": "code",
   "execution_count": 9,
   "id": "1a334423",
   "metadata": {},
   "outputs": [],
   "source": [
    "# This function computes and returns the Mutual Information (external index).\n",
    "# Refer to the lecture slides \"Unsupervised Learning\" by Prof. Jayanta Mukhopadhyay\n",
    "# for more information.\n",
    "def MI ( clusters ) :\n",
    "    k = len(clusters)\n",
    "    contingency_table = np.zeros((k, 2))\n",
    "    \n",
    "    for c in range(k) :\n",
    "        pos = len([t for t in clusters[c] if t[1] == 1])\n",
    "        neg = len(clusters[c]) - pos\n",
    "        contingency_table[c][0] = pos\n",
    "        contingency_table[c][1] = neg\n",
    "    \n",
    "    N = sum(sum(contingency_table))\n",
    "    A = np.sum(contingency_table, axis=1)\n",
    "    B = np.sum(contingency_table, axis=0)\n",
    "    \n",
    "    mi = 0.0\n",
    "    for i in range(k) :\n",
    "        for j in range(2) :\n",
    "            if contingency_table[i][j] == 0 : continue\n",
    "            t = N * contingency_table[i][j] / (A[i] * B[j])\n",
    "            mi += contingency_table[i][j] * log2(t) / N\n",
    "    \n",
    "    return round(mi, 4)\n",
    "\n",
    "# This function computes and returns the Normalized Mutual Information (external index).\n",
    "# Refer to the lecture slides \"Unsupervised Learning\" by Prof. Jayanta Mukhopadhyay\n",
    "# for more information.\n",
    "def NMI ( clusters ) :\n",
    "    k = len(clusters)\n",
    "    contingency_table = np.zeros((k, 2))\n",
    "    \n",
    "    for c in range(k) :\n",
    "        pos = len([t for t in clusters[c] if t[1] == 1])\n",
    "        neg = len(clusters[c]) - pos\n",
    "        contingency_table[c][0] = pos\n",
    "        contingency_table[c][1] = neg\n",
    "    \n",
    "    N = sum(sum(contingency_table))\n",
    "    A = np.sum(contingency_table, axis=1)\n",
    "    B = np.sum(contingency_table, axis=0)\n",
    "    \n",
    "    entropy_clusters = Entropy(A / sum(A))\n",
    "    entropy_classes = Entropy(B / sum(B))\n",
    "    \n",
    "    nmi = 2 * MI(clusters) / (entropy_clusters + entropy_classes)\n",
    "    return round(nmi, 4)"
   ]
  },
  {
   "cell_type": "code",
   "execution_count": 10,
   "id": "90e58167",
   "metadata": {},
   "outputs": [],
   "source": [
    "# This function computes and returns the Homogeneity metric.\n",
    "# Read the report for more information.\n",
    "def Homogeneity ( clusters ) :\n",
    "    k = len(clusters)\n",
    "    contingency_table = np.zeros((k, 2))\n",
    "    \n",
    "    for c in range(k) :\n",
    "        pos = len([t for t in clusters[c] if t[1] == 1])\n",
    "        neg = len(clusters[c]) - pos\n",
    "        contingency_table[c][0] = pos\n",
    "        contingency_table[c][1] = neg\n",
    "    \n",
    "    N = sum(sum(contingency_table))\n",
    "    A = np.sum(contingency_table, axis=1)\n",
    "    B = np.sum(contingency_table, axis=0)\n",
    "    \n",
    "    entropy_C_given_K = 0.0\n",
    "    for c in range(2) :\n",
    "        for t in range(k) :\n",
    "            if contingency_table[t][c] == 0 : continue\n",
    "            p = contingency_table[t][c] / A[t]\n",
    "            entropy_C_given_K += -1 * contingency_table[t][c] * log2(p) / N\n",
    "    \n",
    "    entropy_C = Entropy(B / N)\n",
    "    h = 1 - entropy_C_given_K / entropy_C\n",
    "    return round(h, 4)\n",
    "\n",
    "# This function computes and returns the Completeness metric.\n",
    "# Read the report for more information.\n",
    "def Completeness ( clusters ) :\n",
    "    k = len(clusters)\n",
    "    contingency_table = np.zeros((k, 2))\n",
    "    \n",
    "    for c in range(k) :\n",
    "        pos = len([t for t in clusters[c] if t[1] == 1])\n",
    "        neg = len(clusters[c]) - pos\n",
    "        contingency_table[c][0] = pos\n",
    "        contingency_table[c][1] = neg\n",
    "    \n",
    "    N = sum(sum(contingency_table))\n",
    "    A = np.sum(contingency_table, axis=1) # clusters\n",
    "    B = np.sum(contingency_table, axis=0) # class\n",
    "    \n",
    "    entropy_K_given_C = 0.0\n",
    "    for t in range(k) :\n",
    "        for c in range(2) :\n",
    "            if contingency_table[t][c] == 0 : continue\n",
    "            p = contingency_table[t][c] / B[c]\n",
    "            entropy_K_given_C += -1 * contingency_table[t][c] * log2(p) / N\n",
    "    \n",
    "    entropy_K = Entropy(A / N)\n",
    "    c = 1 - entropy_K_given_C / entropy_K\n",
    "    return round(c, 4)\n",
    "\n",
    "# This function computes and returns the V_Measure metric.\n",
    "# Read the report for more information.\n",
    "def V_Measure ( clusters ) :\n",
    "    h = Homogeneity(clusters)\n",
    "    c = Completeness(clusters)\n",
    "    v = 2 * h * c / (h + c)\n",
    "    return round(v, 4)"
   ]
  },
  {
   "cell_type": "code",
   "execution_count": 11,
   "id": "e264fc24",
   "metadata": {},
   "outputs": [],
   "source": [
    "# This function and computes and returns the silhouette coefficient\n",
    "# for a single sample x wrt to the clustering defined by 'centers' and\n",
    "# 'clusters', i.e, it returns s(x) = (b(x)-a(x))/max(b(x),a(x)), where\n",
    "# b(x) : min. avg. distance of points of other cluster(s) from x.\n",
    "# a(x) : avg. distance of points with the cluster from x.\n",
    "def Silhouette_Coefficient_Single ( x , centers , clusters ) :\n",
    "    k = len(centers)\n",
    "    center_id = Get_Center_ID(x, centers)\n",
    "    a_x = 0\n",
    "    for y in clusters[center_id] :\n",
    "        a_x += np.linalg.norm(x[0] - y[0])\n",
    "    if len(clusters[center_id]) == 1 : a_x = 0\n",
    "    else : a_x /= len(clusters[center_id]) - 1\n",
    "    \n",
    "    b_x = float('inf')\n",
    "    for c in range(k) :\n",
    "        if len(clusters[c]) == 0 : continue\n",
    "        if c == center_id : continue\n",
    "        avg_dist = 0\n",
    "        for y in clusters[c] :\n",
    "            avg_dist += np.linalg.norm(x[0] - y[0])\n",
    "        avg_dist /= len(clusters[c])\n",
    "        b_x = min(b_x, avg_dist)\n",
    "        \n",
    "    return (b_x - a_x) / max(a_x, b_x)\n",
    "\n",
    "# This function returns the silhouette coefficient (internal index) for the entire \n",
    "# dataset, i.e, average of silhouette coefficients for each data sample in the dataset.\n",
    "def Silhouette_Coefficient ( train_data , centers , clusters ) :\n",
    "    s = sum([Silhouette_Coefficient_Single(x, centers, clusters) for x in train_data])\n",
    "    s /= len(train_data)\n",
    "    return round(s, 4)"
   ]
  },
  {
   "cell_type": "code",
   "execution_count": 12,
   "id": "60668a39",
   "metadata": {},
   "outputs": [],
   "source": [
    "# This function computes and returns the Calinski Harabasz Index (internal index).\n",
    "# CH(k) = ((J(1)-J(k)) / (k-1)) / (J(k) / (n-k)), where J(i) is the value of the\n",
    "# objective function J_clust (MSE) when cluster size (no. of clusters) is i.\n",
    "def Calinski_Harabasz_Index ( train_data , centers , clusters ) :\n",
    "    k = len(centers)\n",
    "    N = len(train_data)\n",
    "    mean = np.sum([t[0] for t in train_data], axis = 0) / len(train_data)\n",
    "    J_1 = J_clust([train_data], [mean])\n",
    "    J_k = J_clust(clusters, centers)\n",
    "    ch_idx = (J_1 - J_k) / (k - 1)\n",
    "    ch_idx = (N - k) * ch_idx / J_k\n",
    "    return round(ch_idx, 4)"
   ]
  },
  {
   "cell_type": "code",
   "execution_count": 13,
   "id": "4909923c",
   "metadata": {},
   "outputs": [],
   "source": [
    "# This function computes and returns the Davies Bouldin Index (internal index).\n",
    "# Read the report for more information.\n",
    "def Davies_Bouldin_Index ( train_data , centers , clusters ) :\n",
    "    cluster_diameters = [ ]\n",
    "    k = len(clusters)\n",
    "    for c in range(k) :\n",
    "        if len(clusters[c]) == 0 : \n",
    "            cluster_diameters.append(0)\n",
    "            continue\n",
    "        diam = 0.0\n",
    "        for x in clusters[c] :\n",
    "            diam += np.linalg.norm(x[0] - centers[c])\n",
    "        diam /= len(clusters[c])\n",
    "        cluster_diameters.append(diam)\n",
    "    \n",
    "    dbi = 0\n",
    "    for i in range(k) :\n",
    "        f = -1\n",
    "        for j in range(k) :\n",
    "            if j == i : continue\n",
    "            R_ij = (cluster_diameters[i] + cluster_diameters[j]) / np.linalg.norm(centers[i] - centers[j])\n",
    "            f = max(f, R_ij)\n",
    "        dbi += f\n",
    "    dbi /= k\n",
    "    \n",
    "    return round(dbi, 4)"
   ]
  },
  {
   "cell_type": "code",
   "execution_count": 14,
   "id": "ba671e26",
   "metadata": {},
   "outputs": [],
   "source": [
    "# This function runs Wangs_Cross_Validation_Method for a particular value of k, with\n",
    "# 'count' permutations (default 10), and S1, S2, S3 randomly split in 3:3:4 ratio for each\n",
    "# permutation. It returns the average disagreements ratio over the 'count' permutations.\n",
    "def Wangs_Cross_Validation_Method_Avg_Disagreement_Ratio ( train_data , k , count = 10 ) :\n",
    "    N = len(train_data)\n",
    "    S1_size = S2_size = round(N * 0.3)\n",
    "    S3_size = N - S1_size - S2_size\n",
    "    avg_disagreement_ratio = 0\n",
    "    \n",
    "    # Permute the data 'count' times\n",
    "    for _ in range(count) :\n",
    "        # STEP 1. Randomly split data into S1, S2, S3 such that |S1| = |S2|\n",
    "        shuffle(train_data)\n",
    "        S1 = train_data[:S1_size]\n",
    "        S2 = train_data[S1_size:S1_size+S2_size]\n",
    "        S3 = train_data[S1_size+S2_size:]\n",
    "        \n",
    "        # STEP 2. Perform k-means on S1 and S2\n",
    "        centers_S1, clusters_S1, _ = KMeans(S1, k)\n",
    "        centers_S2, clusters_S2, _ = KMeans(S2, k)\n",
    "        \n",
    "        # STEP 3. Assign the clusters for the data samples in the set S3\n",
    "        clust_assign_S1 = [Get_Center_ID(x, centers_S1) for x in S3]\n",
    "        clust_assign_S2 = [Get_Center_ID(x, centers_S2) for x in S3]\n",
    "        \n",
    "        # STEP 4. Compute the fraction of all the pairs of S3 that dsagree, i.e,\n",
    "        #.        that are either in same cluster in S1 and different S2 or vice-versa.\n",
    "        disagreement_count = 0\n",
    "        for i in range(S3_size) :\n",
    "            for j in range(i+1, S3_size) :\n",
    "                same_clust_for_S1 = (clust_assign_S1[i] == clust_assign_S1[j])\n",
    "                same_clust_for_S2 = (clust_assign_S2[i] == clust_assign_S2[j])\n",
    "                disagreement_count += (same_clust_for_S1 and not same_clust_for_S2)\n",
    "                disagreement_count += (not same_clust_for_S1 and same_clust_for_S2)\n",
    "        ratio = disagreement_count / (S3_size * (S3_size - 1) / 2)\n",
    "        \n",
    "        avg_disagreement_ratio += ratio\n",
    "    \n",
    "    avg_disagreement_ratio /= count\n",
    "    return round(avg_disagreement_ratio, 4)"
   ]
  },
  {
   "cell_type": "code",
   "execution_count": 15,
   "id": "c6838f1e",
   "metadata": {},
   "outputs": [],
   "source": [
    "# This function runs Wangs_Cross_Validation_Method for every value of k from 'least_k'\n",
    "# to 'max_k' and returns the record of metric values obtained at each k.\n",
    "def Find_Most_Suitable_K_Using_Wangs_Cross_Validation_Method ( train_data , least_k = 2 , max_k = 35 ) :\n",
    "    metric_track_record = dict()\n",
    "    for k in range(least_k, max_k+1) :\n",
    "        t = Wangs_Cross_Validation_Method_Avg_Disagreement_Ratio(train_data, k)\n",
    "        print(' k :', k, '| Avg. Disagreement Ratio :', t)\n",
    "        metric_track_record[k] = t\n",
    "    return metric_track_record\n",
    "\n",
    "# This function computes Silhouette Coefficient for every value of k from 'least_k'\n",
    "# to 'max_k' (averaged over 3 clusterings) and returns the record of metric values obtained at each k.\n",
    "def Find_Most_Suitable_K_Using_Silhouette_Coefficient ( train_data , least_k = 2 , max_k = 35 ) :\n",
    "    count = 3\n",
    "    metric_track_record = dict()\n",
    "    for k in range(least_k, max_k+1) :\n",
    "        avg_sil_coef = 0.0\n",
    "        for t in range(count) :\n",
    "            centers, clusters, _ = KMeans(train_data, k)\n",
    "            s = Silhouette_Coefficient(train_data, centers, clusters)\n",
    "            avg_sil_coef += s\n",
    "        avg_sil_coef /= count\n",
    "        print(' k :', k, '| Silhouette Coefficient :', round(avg_sil_coef, 4))\n",
    "        metric_track_record[k] = avg_sil_coef\n",
    "    return metric_track_record\n",
    "\n",
    "# This function computes Calinski Harabasz Index for every value of k from 'least_k'\n",
    "# to 'max_k' (averaged over 3 clusterings) and returns the record of metric values obtained at each k.\n",
    "def Find_Most_Suitable_K_Using_CH_Index ( train_data , least_k = 2 , max_k = 35 ) :\n",
    "    count = 3\n",
    "    metric_track_record = dict()\n",
    "    for k in range(least_k, max_k+1) :\n",
    "        avg_ch_idx = 0.0\n",
    "        for t in range(count) :\n",
    "            centers, clusters, _ = KMeans(train_data, k)\n",
    "            ch_idx = Calinski_Harabasz_Index(train_data, centers, clusters)\n",
    "            avg_ch_idx += ch_idx\n",
    "        avg_ch_idx /= count\n",
    "        print(' k :', k, '| Calinski Harabasz Index :', round(avg_ch_idx, 4))\n",
    "        metric_track_record[k] = avg_ch_idx\n",
    "    return metric_track_record"
   ]
  },
  {
   "cell_type": "code",
   "execution_count": 16,
   "id": "e58fb355",
   "metadata": {},
   "outputs": [],
   "source": [
    "# This function implements the Test-A as given in the assignment. This function can\n",
    "# run wither in 'random' or in 'heuristic' setting. \n",
    "# Please refer to the report for more details.\n",
    "def Test_A ( data , k , setting = 'random' ) :\n",
    "    avg_nmis = []\n",
    "    passes = 50 # do 50 passes\n",
    "    \n",
    "    for pass_ in range(passes) :\n",
    "        data_ = data.copy()\n",
    "        initial_centers = None\n",
    "        heuristic_seed = None\n",
    "        \n",
    "        # STEP 1. RANDOM SELECTION\n",
    "        if setting == 'random' :\n",
    "            # in 'random' setting, randomly select k initial centers.\n",
    "            shuffle(data_)\n",
    "            initial_centers = [ data_[i][0] for i in range(k) ]\n",
    "            data_ = data_[k:]\n",
    "        \n",
    "        elif setting == 'heuristic' :\n",
    "            # in 'heuristic' setting, where the heuristic is k-means++,\n",
    "            # randomly select a seed.\n",
    "            seed_id = randint(0, len(data_)-1)\n",
    "            heuristic_seed = data_[seed_id][0]\n",
    "            data_ = data_[:seed_id] + data_[seed_id+1:]\n",
    "        \n",
    "        # invalid setting\n",
    "        else : return None\n",
    "        \n",
    "        avg_nmi = 0 # average value of the metric\n",
    "        for __ in range(50) : # take average over 50 random 80:20 splits\n",
    "            # STEP 2. RANDOM 80:20 SPLIT OF REMAINING DATASET\n",
    "            shuffle(data_)\n",
    "            size = round(0.8 * len(data_))\n",
    "            train = data_[:size]\n",
    "            test = data_[size:]\n",
    "            \n",
    "            # STEP 3. RUN K-MEANS CLUSTERING\n",
    "            if setting == 'random' : # run KMeans in 'custom' setting with the centers selected in the 1st step\n",
    "                centers, clusters, _ = KMeans(train, k, init = 'custom', initial_centers = initial_centers)\n",
    "            else : # run KMeans in 'kmeans++' setting with the seed selected in the 1st step\n",
    "                centers, clusters, _ = KMeans(train, k, init = 'kmeans++', seed = heuristic_seed)\n",
    "            \n",
    "            # STEP 4. COMPUTATION OF EVALUATION METRIC (NMI) ON TEST SET\n",
    "            contingency_table = np.zeros((k, 2))\n",
    "            for x in test :\n",
    "                contingency_table[Get_Center_ID(x, centers)][x[1]] += 1\n",
    "\n",
    "            N = sum(sum(contingency_table))\n",
    "            A = np.sum(contingency_table, axis=1)\n",
    "            B = np.sum(contingency_table, axis=0)\n",
    "\n",
    "            entropy_clusters = Entropy(A / sum(A))\n",
    "            entropy_classes = Entropy(B / sum(B))\n",
    "            \n",
    "            mi = 0.0\n",
    "            for i in range(k) :\n",
    "                for j in range(2) :\n",
    "                    if contingency_table[i][j] == 0 : continue\n",
    "                    t = N * contingency_table[i][j] / (A[i] * B[j])\n",
    "                    mi += contingency_table[i][j] * log2(t) / N\n",
    "            \n",
    "            nmi = 2 * mi / (entropy_clusters + entropy_classes)\n",
    "            avg_nmi += nmi\n",
    "        \n",
    "        # STEP 5. RECORD THE AVG. METRIC VALUE & RE-ITERATE\n",
    "        avg_nmi /= 50\n",
    "        print(' PASS', pass_ + 1, '\\t| AVG NMI :', round(avg_nmi, 7))\n",
    "        avg_nmis.append(avg_nmi)\n",
    "    \n",
    "    return avg_nmis"
   ]
  },
  {
   "cell_type": "code",
   "execution_count": 17,
   "id": "a8f074e4",
   "metadata": {},
   "outputs": [],
   "source": [
    "# This function returns the contingency matrix for the given 'clusters'.\n",
    "# Please refer to the report for more details.\n",
    "def Contingency_Matrix ( clusters ) :\n",
    "    k = len(clusters)\n",
    "    contingency_table = np.zeros((k, 2)).astype(np.int32)\n",
    "    \n",
    "    for c in range(k) :\n",
    "        pos = len([t for t in clusters[c] if t[1] == 1])\n",
    "        neg = len(clusters[c]) - pos\n",
    "        contingency_table[c][0] = pos\n",
    "        contingency_table[c][1] = neg\n",
    "    \n",
    "    return contingency_table"
   ]
  },
  {
   "cell_type": "code",
   "execution_count": 18,
   "id": "62323f6c",
   "metadata": {},
   "outputs": [],
   "source": [
    "# This function returns the pair confusion matrix for the given 'centers',\n",
    "# with respect to the fiven dataset 'data'.\n",
    "# Please refer to the report for more details.\n",
    "def Pair_Confusion_Matrix ( data , centers ) :\n",
    "    cf = np.zeros((2, 2)).astype(np.int32)\n",
    "    n = len(data)\n",
    "    cluster_ids = [ Get_Center_ID(x, centers) for x in data ]\n",
    "    for i in range(n) :\n",
    "        for j in range(i+1, n) :\n",
    "            same_class = data[i][1] == data[j][1]\n",
    "            same_cluster = cluster_ids[i] == cluster_ids[j]\n",
    "            cf[0][0] += (same_class and same_cluster)\n",
    "            cf[0][1] += (not same_class and same_cluster)\n",
    "            cf[1][1] += (not same_class and not same_cluster)\n",
    "            cf[1][0] += (same_class and not same_cluster)\n",
    "    return cf"
   ]
  },
  {
   "cell_type": "code",
   "execution_count": 19,
   "id": "38472334",
   "metadata": {},
   "outputs": [],
   "source": [
    "# This function returns the correlation matrix (in the form of a pandas \n",
    "# data-frame) for the attributes in the dataset stored in the file at \n",
    "# the given location 'data_file'\n",
    "def Correlation_Matrix ( data_file ) :\n",
    "    data = pd.read_csv(data_file)\n",
    "    correlation_mat = data.corr()\n",
    "    print(' +++ CORRELATION BW ATTRIBUTES-&-ATTRIBUTES / ATTRIBUTES-&-TARGET +++\\n\\n', correlation_mat)\n",
    "    return correlation_mat"
   ]
  },
  {
   "cell_type": "code",
   "execution_count": 20,
   "id": "aff01ac9",
   "metadata": {},
   "outputs": [],
   "source": [
    "# This function plots the correlation matrix defined by the data-drame 'mat'\n",
    "# and saves it in the given location 'loc' as image.\n",
    "def Plot_And_Save_Correlation_Matrix ( mat , loc ) :\n",
    "    labels = ['Pregnancies', 'Glucose', 'BP', 'Skin Thick.', 'Insulin', 'BMI', 'DPF', 'Age', 'Outcome']\n",
    "    fig = plt.figure()\n",
    "    ax = fig.add_subplot()\n",
    "    sns.set(font_scale = 1.2)\n",
    "    sns.heatmap(mat, xticklabels = labels, yticklabels = labels)\n",
    "    plt.title('CORRELATION BW ATTRIBUTES-&-ATTRIBUTES / ATTRIBUTES-&-TARGET\\n', fontsize=13, fontweight='bold')\n",
    "    plt.show()\n",
    "    fig.savefig(loc)"
   ]
  },
  {
   "cell_type": "code",
   "execution_count": 21,
   "id": "a2114a51",
   "metadata": {},
   "outputs": [],
   "source": [
    "# This function plots the pair-confusion matrix defined by 'cf'\n",
    "# and saves it in the given location 'loc' as image.\n",
    "def Plot_And_Save_Pair_Confusion_Matrix ( cf , loc ) :\n",
    "    group_names = ['Same Same','Diff Same','Same Diff','Diff Diff']\n",
    "    group_counts = [\"{0:0.0f}\".format(value) for value in cf.flatten()]\n",
    "    group_percentages = [\"{0:.2%}\".format(value) for value in cf.flatten()/np.sum(cf)]\n",
    "    labels = [f\"{v1}\\n{v2}\\n{v3}\" for v1, v2, v3 in zip(group_names,group_counts,group_percentages)]\n",
    "    labels = np.asarray(labels).reshape(2, 2)\n",
    "    \n",
    "    fig = plt.figure()\n",
    "    ax = fig.add_subplot()\n",
    "    sns.set(font_scale=1.5)\n",
    "    sns.heatmap(cf/np.sum(cf), annot=labels, fmt='', cmap='flare')\n",
    "\n",
    "    ax.set_xlabel('CLASS', fontsize=15)\n",
    "    ax.set_ylabel('CLUSTER', fontsize=15)\n",
    "    ax.xaxis.set_ticklabels(['Same', 'Different'], fontsize=13, va=\"center\")\n",
    "    ax.yaxis.set_ticklabels(['Same', 'Different'], fontsize=13, va=\"center\")\n",
    "\n",
    "    plt.show()\n",
    "    fig.savefig(loc)"
   ]
  },
  {
   "cell_type": "code",
   "execution_count": 22,
   "id": "5b558bdb",
   "metadata": {},
   "outputs": [],
   "source": [
    "# This function plots the contingency matrix defined by 'cf'\n",
    "# and saves it in the given location 'loc' as image.\n",
    "def Plot_And_Save_Contingency_Matrix ( cf , loc ) :\n",
    "    group_counts = [\"{0:0.0f}\".format(value) for value in cf.flatten()]\n",
    "    group_percentages = [\"{0:.2%}\".format(value) for value in cf.flatten()/np.sum(cf)]\n",
    "    labels = [f\"{v2} ({v1})\" for v1, v2 in zip(group_counts, group_percentages)]\n",
    "    labels = np.asarray(labels).reshape(cf.shape[0], 2)\n",
    "    \n",
    "    fig = plt.figure(figsize=(6, int(0.4 * cf.shape[0]) + 1))\n",
    "    ax = fig.add_subplot()\n",
    "    sns.set(font_scale=1)\n",
    "    sns.heatmap(cf/np.sum(cf), annot=labels, fmt='', cmap='flare')\n",
    "\n",
    "    ax.set_xlabel('CLASS', fontsize=15)\n",
    "    ax.set_ylabel('CLUSTER', fontsize=15)\n",
    "    ax.xaxis.set_ticklabels(['Patient', 'Non Patient'], fontsize=13, va=\"center\")\n",
    "    ax.yaxis.set_ticklabels(list(range(1, 1+cf.shape[0])), fontsize=10, va=\"center\")\n",
    "\n",
    "    plt.show()\n",
    "    fig.savefig(loc)"
   ]
  },
  {
   "cell_type": "code",
   "execution_count": 23,
   "id": "d186bc7b",
   "metadata": {
    "scrolled": true
   },
   "outputs": [
    {
     "name": "stdout",
     "output_type": "stream",
     "text": [
      " ATTRIBUTE : Pregnancies | MEAN : 3.8451 | STD DEV : 3.3674\n",
      " ATTRIBUTE : Glucose | MEAN : 120.8945 | STD DEV : 31.9518\n",
      " ATTRIBUTE : BloodPressure | MEAN : 69.1055 | STD DEV : 19.3432\n",
      " ATTRIBUTE : SkinThickness | MEAN : 20.5365 | STD DEV : 15.9418\n",
      " ATTRIBUTE : Insulin | MEAN : 79.7995 | STD DEV : 115.1689\n",
      " ATTRIBUTE : BMI | MEAN : 31.9926 | STD DEV : 7.879\n",
      " ATTRIBUTE : DiabetesPedigreeFunction | MEAN : 0.4719 | STD DEV : 0.3311\n",
      " ATTRIBUTE : Age | MEAN : 33.2409 | STD DEV : 11.7526\n"
     ]
    }
   ],
   "source": [
    "Load_Dataset('diabetes.csv')"
   ]
  },
  {
   "cell_type": "code",
   "execution_count": 24,
   "id": "5136455f",
   "metadata": {
    "scrolled": false
   },
   "outputs": [
    {
     "name": "stdout",
     "output_type": "stream",
     "text": [
      " +++ CORRELATION BW ATTRIBUTES-&-ATTRIBUTES / ATTRIBUTES-&-TARGET +++\n",
      "\n",
      "                           Pregnancies   Glucose  BloodPressure  SkinThickness  \\\n",
      "Pregnancies                  1.000000  0.129459       0.141282      -0.081672   \n",
      "Glucose                      0.129459  1.000000       0.152590       0.057328   \n",
      "BloodPressure                0.141282  0.152590       1.000000       0.207371   \n",
      "SkinThickness               -0.081672  0.057328       0.207371       1.000000   \n",
      "Insulin                     -0.073535  0.331357       0.088933       0.436783   \n",
      "BMI                          0.017683  0.221071       0.281805       0.392573   \n",
      "DiabetesPedigreeFunction    -0.033523  0.137337       0.041265       0.183928   \n",
      "Age                          0.544341  0.263514       0.239528      -0.113970   \n",
      "Outcome                      0.221898  0.466581       0.065068       0.074752   \n",
      "\n",
      "                           Insulin       BMI  DiabetesPedigreeFunction  \\\n",
      "Pregnancies              -0.073535  0.017683                 -0.033523   \n",
      "Glucose                   0.331357  0.221071                  0.137337   \n",
      "BloodPressure             0.088933  0.281805                  0.041265   \n",
      "SkinThickness             0.436783  0.392573                  0.183928   \n",
      "Insulin                   1.000000  0.197859                  0.185071   \n",
      "BMI                       0.197859  1.000000                  0.140647   \n",
      "DiabetesPedigreeFunction  0.185071  0.140647                  1.000000   \n",
      "Age                      -0.042163  0.036242                  0.033561   \n",
      "Outcome                   0.130548  0.292695                  0.173844   \n",
      "\n",
      "                               Age   Outcome  \n",
      "Pregnancies               0.544341  0.221898  \n",
      "Glucose                   0.263514  0.466581  \n",
      "BloodPressure             0.239528  0.065068  \n",
      "SkinThickness            -0.113970  0.074752  \n",
      "Insulin                  -0.042163  0.130548  \n",
      "BMI                       0.036242  0.292695  \n",
      "DiabetesPedigreeFunction  0.033561  0.173844  \n",
      "Age                       1.000000  0.238356  \n",
      "Outcome                   0.238356  1.000000  \n"
     ]
    }
   ],
   "source": [
    "corr_mat = Correlation_Matrix('diabetes.csv')"
   ]
  },
  {
   "cell_type": "code",
   "execution_count": 25,
   "id": "4de88f51",
   "metadata": {},
   "outputs": [
    {
     "data": {
      "image/png": "[encoded data removed]",
      "text/plain": [
       "<Figure size 432x288 with 2 Axes>"
      ]
     },
     "metadata": {
      "needs_background": "light"
     },
     "output_type": "display_data"
    }
   ],
   "source": [
    "Plot_And_Save_Correlation_Matrix(corr_mat, 'correlation_matrix.png')"
   ]
  },
  {
   "cell_type": "markdown",
   "id": "8116a7a2",
   "metadata": {},
   "source": [
    "### PART 01\n",
    "K-Means clustering is performed on the PIDD dataset for k (cluster size) given by the user. The value of k is taken as input from the user through a prompt. For the user given k, the re-worked PIDD data samples are clustered into k clusters. The initial k centers for the clustering algorithm are derived using the kmeans++ heuristic. The clustering of the data samples into k clusters is comprehended through the contingency matrix and the pair confusion matrix."
   ]
  },
  {
   "cell_type": "code",
   "execution_count": 26,
   "id": "6cc7e091",
   "metadata": {},
   "outputs": [
    {
     "name": "stdout",
     "output_type": "stream",
     "text": [
      " Enter k : 15\n"
     ]
    }
   ],
   "source": [
    "k = eval(input(' Enter k : '))"
   ]
  },
  {
   "cell_type": "code",
   "execution_count": 27,
   "id": "c8b83c6d",
   "metadata": {
    "scrolled": true
   },
   "outputs": [
    {
     "name": "stdout",
     "output_type": "stream",
     "text": [
      " ITERATION 1  | J_CLUST : 3.781782\n",
      " ITERATION 2  | J_CLUST : 3.466111\n",
      " ITERATION 3  | J_CLUST : 3.369227\n",
      " ITERATION 4  | J_CLUST : 3.324456\n",
      " ITERATION 5  | J_CLUST : 3.290372\n",
      " ITERATION 6  | J_CLUST : 3.273534\n",
      " ITERATION 7  | J_CLUST : 3.242916\n",
      " ITERATION 8  | J_CLUST : 3.213263\n",
      " ITERATION 9  | J_CLUST : 3.1775\n",
      " ITERATION 10  | J_CLUST : 3.15795\n",
      " ITERATION 11  | J_CLUST : 3.145484\n",
      " ITERATION 12  | J_CLUST : 3.138592\n",
      " ITERATION 13  | J_CLUST : 3.135222\n",
      " ITERATION 14  | J_CLUST : 3.132682\n",
      " ITERATION 15  | J_CLUST : 3.130586\n",
      " ITERATION 16  | J_CLUST : 3.129701\n",
      " ITERATION 17  | J_CLUST : 3.129442\n",
      " ITERATION 18  | J_CLUST : 3.129273\n",
      " ITERATION 19  | J_CLUST : 3.129273\n"
     ]
    }
   ],
   "source": [
    "centers, clusters, j_clust = KMeans(data_samples, k, verbose = True)"
   ]
  },
  {
   "cell_type": "code",
   "execution_count": 28,
   "id": "a149b55a",
   "metadata": {},
   "outputs": [
    {
     "data": {
      "image/png": "[encoded data removed]",
      "text/plain": [
       "<Figure size 432x288 with 1 Axes>"
      ]
     },
     "metadata": {},
     "output_type": "display_data"
    }
   ],
   "source": [
    "fontsize=12\n",
    "plt.style.use('seaborn-whitegrid')\n",
    "currentAxis = plt.gca()\n",
    "graph = currentAxis.plot(list(range(1, 1+len(j_clust))), j_clust, linewidth=3.5)\n",
    "plt.xlabel('ITERATION', fontsize=fontsize)\n",
    "plt.ylabel('J_CLUST (MSE)', fontsize=fontsize)\n",
    "plt.title('PROGRESS OF OBJECTIVE FUNCTION WHILE TRAINING (k = ' + str(k) + ')', fontsize=13, fontweight='bold')\n",
    "filename = 'plot_jclust_part1_k' + str(k) + '.png'\n",
    "plt.savefig(filename)"
   ]
  },
  {
   "cell_type": "code",
   "execution_count": 29,
   "id": "a701745b",
   "metadata": {
    "scrolled": true
   },
   "outputs": [
    {
     "data": {
      "text/plain": [
       "array([[15,  8],\n",
       "       [31, 35],\n",
       "       [17, 74],\n",
       "       [11, 43],\n",
       "       [20, 39],\n",
       "       [18, 16],\n",
       "       [29, 32],\n",
       "       [ 1, 11],\n",
       "       [ 3, 68],\n",
       "       [39, 13],\n",
       "       [20, 17],\n",
       "       [19, 12],\n",
       "       [10,  7],\n",
       "       [33, 42],\n",
       "       [ 2, 83]], dtype=int32)"
      ]
     },
     "execution_count": 29,
     "metadata": {},
     "output_type": "execute_result"
    }
   ],
   "source": [
    "contingency_mat = Contingency_Matrix(clusters)\n",
    "contingency_mat"
   ]
  },
  {
   "cell_type": "code",
   "execution_count": 30,
   "id": "7add28ba",
   "metadata": {
    "scrolled": true
   },
   "outputs": [
    {
     "data": {
      "image/png": "[encoded data removed]",
      "text/plain": [
       "<Figure size 432x360 with 2 Axes>"
      ]
     },
     "metadata": {},
     "output_type": "display_data"
    }
   ],
   "source": [
    "filename = 'conting_mat_part1_k' + str(k) + '.jpg'\n",
    "Plot_And_Save_Contingency_Matrix(contingency_mat, filename)"
   ]
  },
  {
   "cell_type": "code",
   "execution_count": 31,
   "id": "22966176",
   "metadata": {},
   "outputs": [
    {
     "data": {
      "text/plain": [
       "array([[ 15671,   7844],\n",
       "       [144857, 126156]], dtype=int32)"
      ]
     },
     "execution_count": 31,
     "metadata": {},
     "output_type": "execute_result"
    }
   ],
   "source": [
    "pair_conf_mat = Pair_Confusion_Matrix (data_samples, centers)\n",
    "pair_conf_mat"
   ]
  },
  {
   "cell_type": "code",
   "execution_count": 32,
   "id": "bd2e85f1",
   "metadata": {},
   "outputs": [
    {
     "data": {
      "image/png": "[encoded data removed]",
      "text/plain": [
       "<Figure size 432x288 with 2 Axes>"
      ]
     },
     "metadata": {},
     "output_type": "display_data"
    }
   ],
   "source": [
    "filename = 'pair_conf_mat_part1_k' + str(k) + '.jpg'\n",
    "Plot_And_Save_Pair_Confusion_Matrix(pair_conf_mat, filename)"
   ]
  },
  {
   "cell_type": "markdown",
   "id": "184d4c07",
   "metadata": {},
   "source": [
    "### PART 02\n",
    "Performance of the obtained clustering is provided using available ground truth values and without using the ground truth values. Among the metrics that use the ground truth values RI, ARI, MI, NMI, homogeneity, completeness and V measure are evaluated. Among the metrics that do not use the ground truth values silhouette coefficient, Calinski Harabasz Index and Davies Bouldin Index are evaluated.\n",
    "\n",
    "For the value of k given in the last part and hence the obtained clusters and cluster centers, this part computes and prints the 10 evaluation metrics, out of which 7 use the ground truth values as given in the dataset."
   ]
  },
  {
   "cell_type": "code",
   "execution_count": 33,
   "id": "6622a572",
   "metadata": {},
   "outputs": [
    {
     "name": "stdout",
     "output_type": "stream",
     "text": [
      "+++ CLUSTERING PERFORMANCE USING GROUND TRUTH VALUES +++\n",
      "   RI (Random Index) : 0.4815\n",
      "   ARI (Adjusted Random Index) : 0.036\n",
      "   MI (Mutual Information) : 0.1839\n",
      "   NMI (Normalized Mutual Information) : 0.0788\n",
      "   Homogeneity : 0.197\n",
      "   Completeness : 0.0492\n",
      "   V Measure : 0.0787\n"
     ]
    }
   ],
   "source": [
    "print(' +++ CLUSTERING PERFORMANCE USING GROUND TRUTH VALUES +++')\n",
    "print('   RI (Random Index) :', RI(data_samples, centers))\n",
    "print('   ARI (Adjusted Random Index) :', ARI(clusters))\n",
    "print('   MI (Mutual Information) :', MI(clusters))\n",
    "print('   NMI (Normalized Mutual Information) :', NMI(clusters))\n",
    "print('   Homogeneity :', Homogeneity(clusters))\n",
    "print('   Completeness :', Completeness(clusters))\n",
    "print('   V Measure :', V_Measure(clusters))"
   ]
  },
  {
   "cell_type": "code",
   "execution_count": 34,
   "id": "33490b66",
   "metadata": {},
   "outputs": [
    {
     "name": "stdout",
     "output_type": "stream",
     "text": [
      "+++ CLUSTERING PERFORMANCE WITHOUT USING GROUND TRUTH VALUES +++\n",
      "   Silhouette Coefficient : 0.1305\n",
      "   Calinski-Harabasz Index : 83.7177\n",
      "   Davies-Bouldin Index : 1.6096\n"
     ]
    }
   ],
   "source": [
    "print(' +++ CLUSTERING PERFORMANCE WITHOUT USING GROUND TRUTH VALUES +++')\n",
    "print('   Silhouette Coefficient :', Silhouette_Coefficient(data_samples, centers, clusters))\n",
    "print('   Calinski-Harabasz Index :', Calinski_Harabasz_Index(data_samples, centers, clusters))\n",
    "print('   Davies-Bouldin Index :', Davies_Bouldin_Index(data_samples, centers, clusters))"
   ]
  },
  {
   "cell_type": "markdown",
   "id": "8dc53234",
   "metadata": {},
   "source": [
    "### PART 03\n",
    "The most suitable value of cluster size, k is determined by varying k and evaluating internal indices (like silhouette coefficient and Calinski Harabasz Index) on the obtained clusters and cluster centers.\n",
    "\n",
    "The cluster size k is varied between the values low and high. This is done three times with different evaluation metrics to determine the optimal values of k in different cases.\n",
    "\n",
    "Silhouette Coefficient : For each value of k between low and high, clustering is performed 3 times and the average of the silhouette coefficients obtained in each pass is recorded as the average silhouette coefficient for that value of k. Finally average silhouette coefficient v/s \n",
    "k graph is plotted and the optimal value of k at which the average value of the metric is the highest is reported.\n",
    "\n",
    "Calinski Harabasz Index : For each value of k between low and high, clustering is performed 3 times and the average of the Calinski Harabasz Indices obtained in each pass is recorded as the average Calinski Harabasz Index for that value of k. Finally average Calinski Harabasz Index v/s k graph is plotted and the optimal value of k at which the average value of the metric is the highest is reported.\n",
    "\n",
    "Wang's Method of Cross‐Validation : For each value of k between low and high, Wang's\n",
    "Method of Cross‐Validation was performed with 10 permutations and |S1|:|S2|:|S3|=3:3:4 split of the data samples and the average disagreement ratio is recorded. Finally, a graph of average disagreement ratio v/s k is plotted and the optimal value of k at which the average value of disagreement ratio is the least is reported."
   ]
  },
  {
   "cell_type": "code",
   "execution_count": 35,
   "id": "0e91b896",
   "metadata": {
    "scrolled": false
   },
   "outputs": [
    {
     "name": "stdout",
     "output_type": "stream",
     "text": [
      " k : 2 | Silhouette Coefficient : 0.1732\n",
      " k : 3 | Silhouette Coefficient : 0.1905\n",
      " k : 4 | Silhouette Coefficient : 0.1807\n",
      " k : 5 | Silhouette Coefficient : 0.1667\n",
      " k : 6 | Silhouette Coefficient : 0.1731\n",
      " k : 7 | Silhouette Coefficient : 0.1619\n",
      " k : 8 | Silhouette Coefficient : 0.1719\n",
      " k : 9 | Silhouette Coefficient : 0.161\n",
      " k : 10 | Silhouette Coefficient : 0.1561\n",
      " k : 11 | Silhouette Coefficient : 0.1435\n",
      " k : 12 | Silhouette Coefficient : 0.1532\n",
      " k : 13 | Silhouette Coefficient : 0.1544\n",
      " k : 14 | Silhouette Coefficient : 0.1502\n",
      " k : 15 | Silhouette Coefficient : 0.157\n",
      " k : 16 | Silhouette Coefficient : 0.1444\n",
      " k : 17 | Silhouette Coefficient : 0.1469\n",
      " k : 18 | Silhouette Coefficient : 0.1433\n",
      " k : 19 | Silhouette Coefficient : 0.1444\n",
      " k : 20 | Silhouette Coefficient : 0.1401\n",
      " k : 21 | Silhouette Coefficient : 0.14\n",
      " k : 22 | Silhouette Coefficient : 0.1361\n",
      " k : 23 | Silhouette Coefficient : 0.1425\n",
      " k : 24 | Silhouette Coefficient : 0.1385\n",
      " k : 25 | Silhouette Coefficient : 0.1348\n",
      " k : 26 | Silhouette Coefficient : 0.1372\n",
      " k : 27 | Silhouette Coefficient : 0.1345\n",
      " k : 28 | Silhouette Coefficient : 0.1306\n",
      " k : 29 | Silhouette Coefficient : 0.1327\n",
      " k : 30 | Silhouette Coefficient : 0.1337\n",
      " k : 31 | Silhouette Coefficient : 0.1355\n",
      " k : 32 | Silhouette Coefficient : 0.1258\n",
      " k : 33 | Silhouette Coefficient : 0.1336\n",
      " k : 34 | Silhouette Coefficient : 0.1287\n",
      " k : 35 | Silhouette Coefficient : 0.132\n",
      "\n",
      " OPTIMAL VALUE OF k BY USING SILHOUETTE COEFFICIENT : 3\n"
     ]
    }
   ],
   "source": [
    "metric_track_record = Find_Most_Suitable_K_Using_Silhouette_Coefficient(data_samples)\n",
    "optimal_k = max(zip(metric_track_record.values(), metric_track_record.keys()))[1]\n",
    "print('\\n OPTIMAL VALUE OF k BY USING SILHOUETTE COEFFICIENT :', optimal_k)"
   ]
  },
  {
   "cell_type": "code",
   "execution_count": 36,
   "id": "5d2b19da",
   "metadata": {},
   "outputs": [
    {
     "data": {
      "image/png": "[encoded data removed]",
      "text/plain": [
       "<Figure size 432x288 with 1 Axes>"
      ]
     },
     "metadata": {},
     "output_type": "display_data"
    }
   ],
   "source": [
    "fontsize = 12\n",
    "plt.style.use('seaborn-whitegrid')\n",
    "currentAxis = plt.gca()\n",
    "graph = currentAxis.plot(metric_track_record.keys(), metric_track_record.values(), linewidth=3.5)\n",
    "plt.xlabel('k (CLUSTER SIZE)', fontsize=fontsize)\n",
    "plt.ylabel('SILHOUETTE COEFFICIENT', fontsize=fontsize)\n",
    "plt.title('AVG. SILHOUETTE COEFFICIENT V/S CLUSTER SIZE', fontsize=13, fontweight='bold')\n",
    "plt.axvline(x = 3, color = 'red')\n",
    "plt.savefig('plot_avg_sil_coeff_part3.png')"
   ]
  },
  {
   "cell_type": "code",
   "execution_count": 37,
   "id": "ff69c8c8",
   "metadata": {
    "scrolled": false
   },
   "outputs": [
    {
     "name": "stdout",
     "output_type": "stream",
     "text": [
      " k : 2 | Calinski Harabasz Index : 146.7543\n",
      " k : 3 | Calinski Harabasz Index : 156.4842\n",
      " k : 4 | Calinski Harabasz Index : 131.142\n",
      " k : 5 | Calinski Harabasz Index : 116.4756\n",
      " k : 6 | Calinski Harabasz Index : 119.8422\n",
      " k : 7 | Calinski Harabasz Index : 117.2645\n",
      " k : 8 | Calinski Harabasz Index : 113.5172\n",
      " k : 9 | Calinski Harabasz Index : 103.989\n",
      " k : 10 | Calinski Harabasz Index : 101.2007\n",
      " k : 11 | Calinski Harabasz Index : 95.5564\n",
      " k : 12 | Calinski Harabasz Index : 94.918\n",
      " k : 13 | Calinski Harabasz Index : 90.5015\n",
      " k : 14 | Calinski Harabasz Index : 86.4328\n",
      " k : 15 | Calinski Harabasz Index : 83.0644\n",
      " k : 16 | Calinski Harabasz Index : 79.3063\n",
      " k : 17 | Calinski Harabasz Index : 78.5768\n",
      " k : 18 | Calinski Harabasz Index : 76.9571\n",
      " k : 19 | Calinski Harabasz Index : 74.2167\n",
      " k : 20 | Calinski Harabasz Index : 72.4651\n",
      " k : 21 | Calinski Harabasz Index : 71.6806\n",
      " k : 22 | Calinski Harabasz Index : 65.9792\n",
      " k : 23 | Calinski Harabasz Index : 65.9026\n",
      " k : 24 | Calinski Harabasz Index : 67.2659\n",
      " k : 25 | Calinski Harabasz Index : 63.2858\n",
      " k : 26 | Calinski Harabasz Index : 62.0001\n",
      " k : 27 | Calinski Harabasz Index : 61.6018\n",
      " k : 28 | Calinski Harabasz Index : 59.3623\n",
      " k : 29 | Calinski Harabasz Index : 59.5282\n",
      " k : 30 | Calinski Harabasz Index : 59.6951\n",
      " k : 31 | Calinski Harabasz Index : 57.9014\n",
      " k : 32 | Calinski Harabasz Index : 57.3739\n",
      " k : 33 | Calinski Harabasz Index : 53.9401\n",
      " k : 34 | Calinski Harabasz Index : 55.3961\n",
      " k : 35 | Calinski Harabasz Index : 55.4742\n",
      "\n",
      " OPTIMAL VALUE OF k BY USING CH-INDEX : 3\n"
     ]
    }
   ],
   "source": [
    "metric_track_record = Find_Most_Suitable_K_Using_CH_Index(data_samples)\n",
    "optimal_k = max(zip(metric_track_record.values(), metric_track_record.keys()))[1]\n",
    "print('\\n OPTIMAL VALUE OF k BY USING CH-INDEX :', optimal_k)"
   ]
  },
  {
   "cell_type": "code",
   "execution_count": 38,
   "id": "f00a75f0",
   "metadata": {},
   "outputs": [
    {
     "data": {
      "image/png": "[encoded data removed]",
      "text/plain": [
       "<Figure size 432x288 with 1 Axes>"
      ]
     },
     "metadata": {},
     "output_type": "display_data"
    }
   ],
   "source": [
    "fontsize = 12\n",
    "plt.style.use('seaborn-whitegrid')\n",
    "currentAxis = plt.gca()\n",
    "graph = currentAxis.plot(metric_track_record.keys(), metric_track_record.values(), linewidth=3.5)\n",
    "plt.xlabel('k (CLUSTER SIZE)', fontsize=fontsize)\n",
    "plt.ylabel('CALINSKI-HARBASZ INDEX', fontsize=fontsize)\n",
    "plt.title('AVG. CALINSKI-HARBASZ INDEX V/S CLUSTER SIZE', fontsize=13, fontweight='bold')\n",
    "plt.axvline(x = 3, color = 'red')\n",
    "plt.savefig('plot_avg_chi_part3.png')"
   ]
  },
  {
   "cell_type": "code",
   "execution_count": 39,
   "id": "70ca5e2c",
   "metadata": {
    "scrolled": false
   },
   "outputs": [
    {
     "name": "stdout",
     "output_type": "stream",
     "text": [
      " k : 2 | Avg. Disagreement Ratio : 0.3766\n",
      " k : 3 | Avg. Disagreement Ratio : 0.2537\n",
      " k : 4 | Avg. Disagreement Ratio : 0.2195\n",
      " k : 5 | Avg. Disagreement Ratio : 0.2213\n",
      " k : 6 | Avg. Disagreement Ratio : 0.2021\n",
      " k : 7 | Avg. Disagreement Ratio : 0.1802\n",
      " k : 8 | Avg. Disagreement Ratio : 0.1734\n",
      " k : 9 | Avg. Disagreement Ratio : 0.1524\n",
      " k : 10 | Avg. Disagreement Ratio : 0.146\n",
      " k : 11 | Avg. Disagreement Ratio : 0.1366\n",
      " k : 12 | Avg. Disagreement Ratio : 0.1336\n",
      " k : 13 | Avg. Disagreement Ratio : 0.126\n",
      " k : 14 | Avg. Disagreement Ratio : 0.1186\n",
      " k : 15 | Avg. Disagreement Ratio : 0.1086\n",
      " k : 16 | Avg. Disagreement Ratio : 0.1202\n",
      " k : 17 | Avg. Disagreement Ratio : 0.1049\n",
      " k : 18 | Avg. Disagreement Ratio : 0.1087\n",
      " k : 19 | Avg. Disagreement Ratio : 0.0954\n",
      " k : 20 | Avg. Disagreement Ratio : 0.0935\n",
      " k : 21 | Avg. Disagreement Ratio : 0.0926\n",
      " k : 22 | Avg. Disagreement Ratio : 0.0884\n",
      " k : 23 | Avg. Disagreement Ratio : 0.0881\n",
      " k : 24 | Avg. Disagreement Ratio : 0.0808\n",
      " k : 25 | Avg. Disagreement Ratio : 0.0778\n",
      " k : 26 | Avg. Disagreement Ratio : 0.0835\n",
      " k : 27 | Avg. Disagreement Ratio : 0.0838\n",
      " k : 28 | Avg. Disagreement Ratio : 0.0727\n",
      " k : 29 | Avg. Disagreement Ratio : 0.0735\n",
      " k : 30 | Avg. Disagreement Ratio : 0.0727\n",
      " k : 31 | Avg. Disagreement Ratio : 0.0722\n",
      " k : 32 | Avg. Disagreement Ratio : 0.0647\n",
      " k : 33 | Avg. Disagreement Ratio : 0.0677\n",
      " k : 34 | Avg. Disagreement Ratio : 0.0666\n",
      " k : 35 | Avg. Disagreement Ratio : 0.0627\n",
      "\n",
      " OPTIMAL VALUE OF k BY WANG'S VALIDATION METHOD : 35\n"
     ]
    }
   ],
   "source": [
    "metric_track_record = Find_Most_Suitable_K_Using_Wangs_Cross_Validation_Method(data_samples)\n",
    "optimal_k = min(zip(metric_track_record.values(), metric_track_record.keys()))[1]\n",
    "print('\\n OPTIMAL VALUE OF k BY WANG\\'S VALIDATION METHOD :', optimal_k)"
   ]
  },
  {
   "cell_type": "code",
   "execution_count": 40,
   "id": "054a0bd9",
   "metadata": {},
   "outputs": [
    {
     "data": {
      "image/png": "[encoded data removed]",
      "text/plain": [
       "<Figure size 432x288 with 1 Axes>"
      ]
     },
     "metadata": {},
     "output_type": "display_data"
    }
   ],
   "source": [
    "fontsize = 12\n",
    "plt.style.use('seaborn-whitegrid')\n",
    "currentAxis = plt.gca()\n",
    "graph = currentAxis.plot(metric_track_record.keys(), metric_track_record.values(), linewidth=3.5)\n",
    "plt.xlabel('k (CLUSTER SIZE)', fontsize=fontsize)\n",
    "plt.ylabel('AVG. DISAGREEMENTS RATIO', fontsize=fontsize)\n",
    "plt.title('AVG. DISAGREEMENTS RATIO V/S CLUSTER SIZE (WANG\\'S VALIDATION METHOD)', fontsize=13, fontweight='bold')\n",
    "plt.axvline(x = 35, color = 'red')\n",
    "plt.savefig('plot_avg_disagr_ratio_part3.png')"
   ]
  },
  {
   "cell_type": "markdown",
   "id": "b9582378",
   "metadata": {},
   "source": [
    "### PART 04\n",
    "The deviation/stability of the clustering outcome with respect to different random initializations of k cluster centers is studied through the Test‑A as given in the assignment. In order to reduce the variation in the evaluation metric chosen in the Test‑A (like NMI, ARI etc), a heuristic-based initialization routine is selected and Test‑A is re-performed and the deviation/stability of the clustering outcome are reported and compared with the former results.\n",
    "\n",
    "A function that implements the Test‑A step-by-step as given in the assignment is written. Normalized Mutual Information (NMI) is chosen as the evaluation metric. The function takes an additional argument setting as input that indicates whether the test has to be performed in a random setting, where the initial cluster centers are assigned randomly, or in a heuristic setting, where the initial cluster centers are determined using some heuristic-based initialization routine. The heuristic that we have chosen to initialize the k cluster centers under the heuristic setting is k‑means﹢﹢."
   ]
  },
  {
   "cell_type": "code",
   "execution_count": 41,
   "id": "171c4a1b",
   "metadata": {},
   "outputs": [
    {
     "name": "stdout",
     "output_type": "stream",
     "text": [
      " Enter k : 7\n"
     ]
    }
   ],
   "source": [
    "k = eval(input(' Enter k : '))"
   ]
  },
  {
   "cell_type": "code",
   "execution_count": 42,
   "id": "7c386c8c",
   "metadata": {
    "scrolled": false
   },
   "outputs": [
    {
     "name": "stdout",
     "output_type": "stream",
     "text": [
      " PASS 1 \t| AVG NMI : 0.0906309\n",
      " PASS 2 \t| AVG NMI : 0.0949694\n",
      " PASS 3 \t| AVG NMI : 0.0882453\n",
      " PASS 4 \t| AVG NMI : 0.0920771\n",
      " PASS 5 \t| AVG NMI : 0.079941\n",
      " PASS 6 \t| AVG NMI : 0.0806179\n",
      " PASS 7 \t| AVG NMI : 0.0973336\n",
      " PASS 8 \t| AVG NMI : 0.0872253\n",
      " PASS 9 \t| AVG NMI : 0.0886615\n",
      " PASS 10 \t| AVG NMI : 0.0881075\n",
      " PASS 11 \t| AVG NMI : 0.0843271\n",
      " PASS 12 \t| AVG NMI : 0.082981\n",
      " PASS 13 \t| AVG NMI : 0.0824758\n",
      " PASS 14 \t| AVG NMI : 0.0861313\n",
      " PASS 15 \t| AVG NMI : 0.0880253\n",
      " PASS 16 \t| AVG NMI : 0.1037687\n",
      " PASS 17 \t| AVG NMI : 0.0846131\n",
      " PASS 18 \t| AVG NMI : 0.0916076\n",
      " PASS 19 \t| AVG NMI : 0.0856234\n",
      " PASS 20 \t| AVG NMI : 0.0883374\n",
      " PASS 21 \t| AVG NMI : 0.0849169\n",
      " PASS 22 \t| AVG NMI : 0.0829792\n",
      " PASS 23 \t| AVG NMI : 0.0910196\n",
      " PASS 24 \t| AVG NMI : 0.0833855\n",
      " PASS 25 \t| AVG NMI : 0.0864801\n",
      " PASS 26 \t| AVG NMI : 0.0881856\n",
      " PASS 27 \t| AVG NMI : 0.0927057\n",
      " PASS 28 \t| AVG NMI : 0.0922936\n",
      " PASS 29 \t| AVG NMI : 0.0854273\n",
      " PASS 30 \t| AVG NMI : 0.0826519\n",
      " PASS 31 \t| AVG NMI : 0.0868199\n",
      " PASS 32 \t| AVG NMI : 0.0863072\n",
      " PASS 33 \t| AVG NMI : 0.0861079\n",
      " PASS 34 \t| AVG NMI : 0.0926097\n",
      " PASS 35 \t| AVG NMI : 0.088287\n",
      " PASS 36 \t| AVG NMI : 0.0916276\n",
      " PASS 37 \t| AVG NMI : 0.0891245\n",
      " PASS 38 \t| AVG NMI : 0.0853101\n",
      " PASS 39 \t| AVG NMI : 0.0884507\n",
      " PASS 40 \t| AVG NMI : 0.0849311\n",
      " PASS 41 \t| AVG NMI : 0.0857011\n",
      " PASS 42 \t| AVG NMI : 0.0893729\n",
      " PASS 43 \t| AVG NMI : 0.0839934\n",
      " PASS 44 \t| AVG NMI : 0.0846104\n",
      " PASS 45 \t| AVG NMI : 0.0878425\n",
      " PASS 46 \t| AVG NMI : 0.0872343\n",
      " PASS 47 \t| AVG NMI : 0.0846533\n",
      " PASS 48 \t| AVG NMI : 0.087579\n",
      " PASS 49 \t| AVG NMI : 0.0939655\n",
      " PASS 50 \t| AVG NMI : 0.0824582\n"
     ]
    }
   ],
   "source": [
    "avg_metric_values = Test_A(data_samples, k, setting = 'random')"
   ]
  },
  {
   "cell_type": "code",
   "execution_count": 43,
   "id": "4d41e37d",
   "metadata": {},
   "outputs": [
    {
     "name": "stdout",
     "output_type": "stream",
     "text": [
      "MEAN (AVG. NMI) : 0.0876546  |  STD DEV (AVG. NMI) : 0.0043408\n"
     ]
    }
   ],
   "source": [
    "mean = np.mean(avg_metric_values)\n",
    "std_dev = np.std(avg_metric_values)\n",
    "print('MEAN (AVG. NMI) :', round(mean, 7), ' | ', 'STD DEV (AVG. NMI) :', round(std_dev, 7))"
   ]
  },
  {
   "cell_type": "code",
   "execution_count": 44,
   "id": "68426f2f",
   "metadata": {
    "scrolled": false
   },
   "outputs": [
    {
     "name": "stdout",
     "output_type": "stream",
     "text": [
      " PASS 1 \t| AVG NMI : 0.0897563\n",
      " PASS 2 \t| AVG NMI : 0.0923174\n",
      " PASS 3 \t| AVG NMI : 0.0862789\n",
      " PASS 4 \t| AVG NMI : 0.0967324\n",
      " PASS 5 \t| AVG NMI : 0.0802537\n",
      " PASS 6 \t| AVG NMI : 0.0904708\n",
      " PASS 7 \t| AVG NMI : 0.0883274\n",
      " PASS 8 \t| AVG NMI : 0.0868447\n",
      " PASS 9 \t| AVG NMI : 0.0864006\n",
      " PASS 10 \t| AVG NMI : 0.089044\n",
      " PASS 11 \t| AVG NMI : 0.0895343\n",
      " PASS 12 \t| AVG NMI : 0.0909647\n",
      " PASS 13 \t| AVG NMI : 0.0941076\n",
      " PASS 14 \t| AVG NMI : 0.0865894\n",
      " PASS 15 \t| AVG NMI : 0.0864686\n",
      " PASS 16 \t| AVG NMI : 0.0876682\n",
      " PASS 17 \t| AVG NMI : 0.0845336\n",
      " PASS 18 \t| AVG NMI : 0.0921621\n",
      " PASS 19 \t| AVG NMI : 0.0907739\n",
      " PASS 20 \t| AVG NMI : 0.086894\n",
      " PASS 21 \t| AVG NMI : 0.0865704\n",
      " PASS 22 \t| AVG NMI : 0.086918\n",
      " PASS 23 \t| AVG NMI : 0.0826436\n",
      " PASS 24 \t| AVG NMI : 0.0877374\n",
      " PASS 25 \t| AVG NMI : 0.0968985\n",
      " PASS 26 \t| AVG NMI : 0.0912903\n",
      " PASS 27 \t| AVG NMI : 0.0862671\n",
      " PASS 28 \t| AVG NMI : 0.0937852\n",
      " PASS 29 \t| AVG NMI : 0.0856456\n",
      " PASS 30 \t| AVG NMI : 0.0855721\n",
      " PASS 31 \t| AVG NMI : 0.086214\n",
      " PASS 32 \t| AVG NMI : 0.0897553\n",
      " PASS 33 \t| AVG NMI : 0.0823593\n",
      " PASS 34 \t| AVG NMI : 0.0979363\n",
      " PASS 35 \t| AVG NMI : 0.0848946\n",
      " PASS 36 \t| AVG NMI : 0.0918847\n",
      " PASS 37 \t| AVG NMI : 0.0854498\n",
      " PASS 38 \t| AVG NMI : 0.090448\n",
      " PASS 39 \t| AVG NMI : 0.0863619\n",
      " PASS 40 \t| AVG NMI : 0.0826684\n",
      " PASS 41 \t| AVG NMI : 0.0882017\n",
      " PASS 42 \t| AVG NMI : 0.0860708\n",
      " PASS 43 \t| AVG NMI : 0.0893854\n",
      " PASS 44 \t| AVG NMI : 0.0868264\n",
      " PASS 45 \t| AVG NMI : 0.0931698\n",
      " PASS 46 \t| AVG NMI : 0.0888606\n",
      " PASS 47 \t| AVG NMI : 0.0884921\n",
      " PASS 48 \t| AVG NMI : 0.0878119\n",
      " PASS 49 \t| AVG NMI : 0.079887\n",
      " PASS 50 \t| AVG NMI : 0.0841384\n"
     ]
    }
   ],
   "source": [
    "avg_metric_values = Test_A(data_samples, k, setting = 'heuristic')"
   ]
  },
  {
   "cell_type": "code",
   "execution_count": 45,
   "id": "b0f7de15",
   "metadata": {},
   "outputs": [
    {
     "name": "stdout",
     "output_type": "stream",
     "text": [
      "MEAN (AVG. NMI) : 0.0882053  |  STD DEV (AVG. NMI) : 0.0038775\n"
     ]
    }
   ],
   "source": [
    "mean = np.mean(avg_metric_values)\n",
    "std_dev = np.std(avg_metric_values)\n",
    "print('MEAN (AVG. NMI) :', round(mean, 7), ' | ', 'STD DEV (AVG. NMI) :', round(std_dev, 7))"
   ]
  }
 ],
 "metadata": {
  "kernelspec": {
   "display_name": "Python 3",
   "language": "python",
   "name": "python3"
  },
  "language_info": {
   "codemirror_mode": {
    "name": "ipython",
    "version": 3
   },
   "file_extension": ".py",
   "mimetype": "text/x-python",
   "name": "python",
   "nbconvert_exporter": "python",
   "pygments_lexer": "ipython3",
   "version": "3.8.8"
  }
 },
 "nbformat": 4,
 "nbformat_minor": 5
}
